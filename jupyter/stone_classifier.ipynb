{
 "cells": [
  {
   "cell_type": "code",
   "execution_count": null,
   "metadata": {
    "id": "xey4G1CZ_93E"
   },
   "outputs": [],
   "source": [
    "from typing import List\n",
    "import torch\n",
    "from torch import nn, optim\n",
    "import torch.nn.functional as F\n",
    "from torchvision.datasets import ImageFolder\n",
    "from torchvision.transforms import transforms\n",
    "from tqdm import tqdm"
   ]
  },
  {
   "cell_type": "code",
   "execution_count": null,
   "metadata": {
    "id": "Q0TVA6B6_ycA"
   },
   "outputs": [],
   "source": [
    "class StoneClassifier(nn.Module):\n",
    "    def __init__(self):\n",
    "        super().__init__()\n",
    "        self.conv1 = nn.Conv2d(3, 8, 3, 2, 1)\n",
    "        self.conv2 = nn.Conv2d(8, 16, 3, 2, 1)\n",
    "        self.conv3 = nn.Conv2d(16, 32, 3, 2, 1)\n",
    "        self.fc1 = nn.Linear(32 * 3 * 3, 128)\n",
    "        self.fc3 = nn.Linear(128, 2)\n",
    "\n",
    "    def forward(self, x):\n",
    "        x = F.relu(self.conv1(x))\n",
    "        x = F.relu(self.conv2(x))\n",
    "        x = F.relu(self.conv3(x))\n",
    "        x = torch.flatten(x, 1)\n",
    "        x = F.relu(self.fc1(x))\n",
    "        x = F.softmax(self.fc3(x), dim=1)\n",
    "        return x"
   ]
  },
  {
   "cell_type": "code",
   "execution_count": null,
   "metadata": {
    "colab": {
     "base_uri": "https://localhost:8080/"
    },
    "id": "FrqfENr_V4S4",
    "outputId": "5230c97c-f9b8-42ca-a2c9-563b1a9eea9f"
   },
   "outputs": [],
   "source": [
    "device = torch.device(\"cuda\" if torch.cuda.is_available() else \"cpu\")\n",
    "device"
   ]
  },
  {
   "cell_type": "code",
   "execution_count": null,
   "metadata": {
    "id": "mfrND9HT_--r"
   },
   "outputs": [],
   "source": [
    "def train(dataset_path: str, output_path: str, device: torch.device, batch_size: int = 64, class_weights: List[int] = [1, 3]):\n",
    "    transform = transforms.Compose(\n",
    "        [\n",
    "            transforms.CenterCrop(24),\n",
    "            transforms.ToTensor(),\n",
    "            transforms.Normalize((0.5, 0.5, 0.5), (0.5, 0.5, 0.5))\n",
    "        ]\n",
    "    )\n",
    "\n",
    "    data_train = ImageFolder(dataset_path + \"/train/\", transform)\n",
    "    data_val = ImageFolder(dataset_path + \"/valid/\", transform)\n",
    "    train_loader = torch.utils.data.DataLoader(data_train,\n",
    "                                               batch_size=batch_size,\n",
    "                                               shuffle=True,\n",
    "                                               drop_last=True,\n",
    "                                               num_workers=4)\n",
    "    val_loader = torch.utils.data.DataLoader(data_val,\n",
    "                                             batch_size=batch_size,\n",
    "                                             shuffle=False,\n",
    "                                             drop_last=False,\n",
    "                                             num_workers=4)\n",
    "\n",
    "    model = StoneClassifier().to(device)\n",
    "    criterion = nn.CrossEntropyLoss(torch.FloatTensor([1, 3]).to(device))\n",
    "    optimizer = optim.Adam(model.parameters(), lr=0.001)\n",
    "    classes = [\"nostone\", \"stone\"]\n",
    "\n",
    "    for epoch in range(100):\n",
    "        running_loss = 0.0\n",
    "        for i, data in enumerate(train_loader):\n",
    "            inputs, labels = data\n",
    "\n",
    "            optimizer.zero_grad()\n",
    "\n",
    "            outputs = model(inputs.to(device))\n",
    "            loss = criterion(outputs, labels.to(device))\n",
    "            loss.backward()\n",
    "            optimizer.step()\n",
    "\n",
    "            running_loss += loss.item()\n",
    "            if i % 100 == 99:\n",
    "                print(f'[{epoch + 1}, {i + 1:5d}] loss: {running_loss / 100:.3f}')\n",
    "                running_loss = 0.0\n",
    "\n",
    "        correct_pred = {class_name: 0 for class_name in classes}\n",
    "        total_pred = {class_name: 0 for class_name in classes}\n",
    "        with torch.no_grad():\n",
    "            for i, data in enumerate(val_loader):\n",
    "                inputs, labels = data\n",
    "                labels = labels.to(device)\n",
    "\n",
    "                outputs = model(inputs.to(device))\n",
    "                _, predictions = torch.max(outputs, 1)\n",
    "                for label, prediction in zip(labels, predictions.to(device)):\n",
    "                    if label == prediction:\n",
    "                        correct_pred[classes[label]] += 1\n",
    "                    total_pred[classes[label]] += 1\n",
    "\n",
    "        for class_name, correct_count in correct_pred.items():\n",
    "            accuracy = 100 * float(correct_count) / total_pred[class_name]\n",
    "            print(f'Accuracy for class: {class_name:5s} is {accuracy:.1f} %')\n",
    "        nostone_accuracy = correct_pred[\"nostone\"] / total_pred[\"nostone\"]\n",
    "        stone_accuracy = correct_pred[\"stone\"] / total_pred[\"stone\"]\n",
    "        torch.save(model.state_dict(), output_path + f\"/{epoch}_{round(nostone_accuracy, 2)}_{round(stone_accuracy, 2)}.pth\")\n",
    "\n",
    "    print('Finished Training')"
   ]
  },
  {
   "cell_type": "code",
   "execution_count": null,
   "metadata": {
    "colab": {
     "base_uri": "https://localhost:8080/",
     "height": 1000
    },
    "id": "yh_7Oak3BO19",
    "outputId": "6e1834b0-f428-4d46-8005-5466e0b99314"
   },
   "outputs": [],
   "source": [
    "train(\"../surviv-rl/dataset/\", \"../weights/\", device)"
   ]
  },
  {
   "cell_type": "code",
   "execution_count": null,
   "metadata": {
    "id": "0p4VYRzDPrzL"
   },
   "outputs": [],
   "source": []
  }
 ],
 "metadata": {
  "accelerator": "GPU",
  "colab": {
   "name": "stone_classifier.ipynb",
   "provenance": []
  },
  "kernelspec": {
   "display_name": "Python 3 (ipykernel)",
   "language": "python",
   "name": "python3"
  },
  "language_info": {
   "codemirror_mode": {
    "name": "ipython",
    "version": 3
   },
   "file_extension": ".py",
   "mimetype": "text/x-python",
   "name": "python",
   "nbconvert_exporter": "python",
   "pygments_lexer": "ipython3",
   "version": "3.9.9"
  }
 },
 "nbformat": 4,
 "nbformat_minor": 1
}
